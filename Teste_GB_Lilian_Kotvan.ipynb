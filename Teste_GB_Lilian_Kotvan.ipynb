{
  "nbformat": 4,
  "nbformat_minor": 0,
  "metadata": {
    "colab": {
      "provenance": [],
      "mount_file_id": "1acGQz1butArf1UZAXG2AXnPsHsyWYeKO",
      "authorship_tag": "ABX9TyMrV9XFvL5DMmOCmYiLeghx",
      "include_colab_link": true
    },
    "kernelspec": {
      "name": "python3",
      "display_name": "Python 3"
    },
    "language_info": {
      "name": "python"
    }
  },
  "cells": [
    {
      "cell_type": "markdown",
      "metadata": {
        "id": "view-in-github",
        "colab_type": "text"
      },
      "source": [
        "<a href=\"https://colab.research.google.com/github/liliankotvan/CasoGB/blob/inserir-dados/Teste_GB_Lilian_Kotvan.ipynb\" target=\"_parent\"><img src=\"https://colab.research.google.com/assets/colab-badge.svg\" alt=\"Open In Colab\"/></a>"
      ]
    },
    {
      "cell_type": "code",
      "execution_count": null,
      "metadata": {
        "id": "BElur_fr1PjB"
      },
      "outputs": [],
      "source": [
        "Desafio Engenharia de Dados\n",
        "Esse notebook será utilizado para documentar o desafio 2:\n",
        "\n",
        "Vou dividir o desafio em:\n",
        "\n",
        "Importar os dados;\n",
        "\n",
        "Explorar e Tratar dos Dados;\n",
        "\n",
        "Carregar os Dados;\n",
        "\n",
        "Enviar dados para a Nuvem; e\n",
        "\n",
        "Gerenciamento de Acesso"
      ]
    },
    {
      "cell_type": "markdown",
      "source": [
        "Ingestão dos dados\n",
        "\n",
        "-salvar as tabelas excel no google drive\n",
        "-realizar a ingestão para cloud no cloud storage\n",
        "-salvar as tabelas no Cloud SQL (camada raw)"
      ],
      "metadata": {
        "id": "yKuR-nYPC1me"
      }
    },
    {
      "cell_type": "markdown",
      "source": [
        "accesso ao drive do google"
      ],
      "metadata": {
        "id": "ZMA5OGzLLrSi"
      }
    },
    {
      "cell_type": "code",
      "source": [
        "from google.colab import drive\n",
        "drive.mount('/content/drive/')"
      ],
      "metadata": {
        "colab": {
          "base_uri": "https://localhost:8080/"
        },
        "id": "k3pCIRKdGrXd",
        "outputId": "1c41ab70-75a3-4ad7-c445-06da17a1dea9"
      },
      "execution_count": 5,
      "outputs": [
        {
          "output_type": "stream",
          "name": "stdout",
          "text": [
            "Mounted at /content/drive/\n"
          ]
        }
      ]
    },
    {
      "cell_type": "markdown",
      "source": [
        "acesso ao bucket do gcp"
      ],
      "metadata": {
        "id": "i43Ixs83LwFU"
      }
    },
    {
      "cell_type": "code",
      "source": [
        "from google.colab import auth\n",
        "auth.authenticate_user()\n",
        "project_id = 'gb-case02'\n",
        "!gcloud config set project {project_id}\n",
        "!gsutil ls"
      ],
      "metadata": {
        "colab": {
          "base_uri": "https://localhost:8080/"
        },
        "id": "in228mJoJeXI",
        "outputId": "267cd118-1247-4250-e085-fa9ebe70e2f6"
      },
      "execution_count": 6,
      "outputs": [
        {
          "output_type": "stream",
          "name": "stdout",
          "text": [
            "Updated property [core/project].\n",
            "gs://gb-bucket-desafio/\n"
          ]
        }
      ]
    },
    {
      "cell_type": "markdown",
      "source": [
        "Copiar arquivos para o bucket do gcp cloud storage"
      ],
      "metadata": {
        "id": "rI2GXy0MMaQY"
      }
    },
    {
      "cell_type": "code",
      "source": [
        "bucket_name = 'gb-bucket-desafio'\n",
        "!gsutil -m cp -r /content/drive/My\\ Drive/GB-Case02/* gs://{bucket_name}/"
      ],
      "metadata": {
        "colab": {
          "base_uri": "https://localhost:8080/"
        },
        "id": "hA0qfQ27MEvJ",
        "outputId": "4252fc6a-6a5b-4443-d99f-2c12e0b9db40"
      },
      "execution_count": 7,
      "outputs": [
        {
          "output_type": "stream",
          "name": "stdout",
          "text": [
            "Copying file:///content/drive/My Drive/GB-Case02/Base 2017 (1).xlsx [Content-Type=application/vnd.openxmlformats-officedocument.spreadsheetml.sheet]...\n",
            "/ [0/3 files][    0.0 B/131.2 KiB]   0% Done                                    \rCopying file:///content/drive/My Drive/GB-Case02/Base_2018 (1).xlsx [Content-Type=application/vnd.openxmlformats-officedocument.spreadsheetml.sheet]...\n",
            "Copying file:///content/drive/My Drive/GB-Case02/Base_2019 (2).xlsx [Content-Type=application/vnd.openxmlformats-officedocument.spreadsheetml.sheet]...\n",
            "| [3/3 files][131.2 KiB/131.2 KiB] 100% Done                                    \n",
            "Operation completed over 3 objects/131.2 KiB.                                    \n"
          ]
        }
      ]
    },
    {
      "cell_type": "code",
      "source": [],
      "metadata": {
        "id": "kYxQF8LoMwVb"
      },
      "execution_count": null,
      "outputs": []
    },
    {
      "cell_type": "markdown",
      "source": [
        "enviar dados para camada raw do cloud sql com o dataflow"
      ],
      "metadata": {
        "id": "ZKK6EI4jNoe7"
      }
    },
    {
      "cell_type": "markdown",
      "source": [
        "# New Section"
      ],
      "metadata": {
        "id": "1us9673VIWu4"
      }
    }
  ]
}